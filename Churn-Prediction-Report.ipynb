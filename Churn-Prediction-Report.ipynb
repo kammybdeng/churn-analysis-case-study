{
 "cells": [
  {
   "cell_type": "markdown",
   "metadata": {},
   "source": [
    "# Churn Prediction Report\n"
   ]
  },
  {
   "cell_type": "markdown",
   "metadata": {},
   "source": [
    "***"
   ]
  },
  {
   "cell_type": "markdown",
   "metadata": {},
   "source": [
    "# Background"
   ]
  },
  {
   "cell_type": "markdown",
   "metadata": {},
   "source": [
    "A ride-sharing company (Company X) is interested in **predicting rider retention**. To help explore this question, we have provided a sample dataset of a cohort of users who signed up for an account in **January 2014**. The data was pulled on July 1, 2014; we consider a user retained if they were **“active”** (i.e. took a trip) in the preceding 30 days (from the day the data was pulled). In other words, a user is \"active\" if they have taken a trip since June 1, 2014. \n",
    "\n",
    "\n",
    "The data, churn.csv, is in the data folder. The data are split into train and test sets. You are encouraged to tune and estimate your model's performance on the train set, then see how it does on the unseen data in the test set at the end.\n",
    "\n"
   ]
  },
  {
   "cell_type": "markdown",
   "metadata": {},
   "source": [
    "# Objective"
   ]
  },
  {
   "cell_type": "markdown",
   "metadata": {},
   "source": [
    "We would like you to use this data set to help understand **what factors are the best predictors for retention**, and offer suggestions to operationalize those insights to help Company X. Therefore, your task is not only to build a model that minimizes error, but also a model that allows you to interpret the factors that contributed to your predictions.\n"
   ]
  },
  {
   "cell_type": "markdown",
   "metadata": {},
   "source": [
    "***"
   ]
  },
  {
   "cell_type": "markdown",
   "metadata": {},
   "source": [
    "#  Steps of implementations\n",
    "\n",
    "### EDA and data cleaning\n",
    "1. Perform [EDA](#EDA) to familiarize ourselves with the data and check the quality of the data\n",
    "2. Since our target label is missing, we need to [feature engineer the target label](#Feature-engineering)\n",
    "3. We also need to do some [data cleaning](#Data-cleaning), such as, handling nan values and removing outliers \n",
    "4. For categorical variables, we will need to create [dummy variables](#Categorical-variables)\n",
    "5. We can then [apply](#Apply-functions) all these cleanings and filtering functions to the dataset.\n",
    "\n",
    "### Modeling and analysis\n",
    "1. After the dataset is clean, we can start to build a the [baseline](#Baseline).\n",
    "- Train a [simple random forest model](#Random-Forest), and check its performance.\n",
    "- Train [mulitple models](#Train-different-models) to find the best model. In this case, our best model is [Gradient Boosting Classifier](#Gradient-Boosting-Classifier), which outperformed the baseline by 27% on accuracy and have a precision-recall score of 90%.\n",
    "- Finally, we need to [analysize our result](#Final-Analysis) and make [recommendations](#Conclusion-and-recommendations) that will answer the original question.\n"
   ]
  },
  {
   "cell_type": "code",
   "execution_count": 1,
   "metadata": {},
   "outputs": [],
   "source": [
    "import pandas as pd\n",
    "import numpy as np\n",
    "from datetime import timedelta\n",
    "import matplotlib.pyplot as plt\n",
    "import seaborn as sns\n",
    "\n",
    "from sklearn.model_selection import train_test_split\n",
    "from sklearn.linear_model import LogisticRegression\n",
    "from sklearn.ensemble import GradientBoostingClassifier \n",
    "from sklearn.ensemble import RandomForestClassifier\n",
    "from sklearn.ensemble import AdaBoostClassifier\n",
    "\n",
    "from sklearn.svm import SVC\n",
    "\n",
    "\n",
    "from sklearn.decomposition import PCA\n",
    "from sklearn.metrics import precision_recall_curve\n",
    "from sklearn.metrics import average_precision_score\n",
    "\n",
    "from collections import Counter\n",
    "from sklearn.preprocessing import StandardScaler\n",
    "\n",
    "from src import plot_roc_curve \n",
    "from src import functions\n",
    "\n"
   ]
  },
  {
   "cell_type": "markdown",
   "metadata": {},
   "source": [
    "# EDA"
   ]
  },
  {
   "cell_type": "markdown",
   "metadata": {},
   "source": [
    "#### Here is a detailed description of the data:\n",
    "\n",
    "- city: city this user signed up in phone: primary device for this user\n",
    "- signup_date: date of account registration; in the form YYYYMMDD\n",
    "- last_trip_date: the last time this user completed a trip; in the form YYYYMMDD\n",
    "- avg_dist: the average distance (in miles) per trip taken in the first 30 days after signup\n",
    "- avg_rating_by_driver: the rider’s average rating over all of their trips\n",
    "- avg_rating_of_driver: the rider’s average rating of their drivers over all of their trips\n",
    "- surge_pct: the percent of trips taken with surge multiplier > 1\n",
    "- avg_surge: The average surge multiplier over all of this user’s trips\n",
    "- trips_in_first_30_days: the number of trips this user took in the first 30 days after signing up\n",
    "- luxury_car_user: TRUE if the user took a luxury car in their first 30 days; FALSE otherwise\n",
    "- weekday_pct: the percent of the user’s trips occurring during a weekday"
   ]
  },
  {
   "cell_type": "code",
   "execution_count": 2,
   "metadata": {},
   "outputs": [],
   "source": [
    "train = pd.read_csv(\"data/churn_train.csv\", parse_dates= ['last_trip_date','signup_date'])"
   ]
  },
  {
   "cell_type": "code",
   "execution_count": 3,
   "metadata": {},
   "outputs": [
    {
     "data": {
      "text/html": [
       "<div>\n",
       "<style scoped>\n",
       "    .dataframe tbody tr th:only-of-type {\n",
       "        vertical-align: middle;\n",
       "    }\n",
       "\n",
       "    .dataframe tbody tr th {\n",
       "        vertical-align: top;\n",
       "    }\n",
       "\n",
       "    .dataframe thead th {\n",
       "        text-align: right;\n",
       "    }\n",
       "</style>\n",
       "<table border=\"1\" class=\"dataframe\">\n",
       "  <thead>\n",
       "    <tr style=\"text-align: right;\">\n",
       "      <th></th>\n",
       "      <th>avg_dist</th>\n",
       "      <th>avg_rating_by_driver</th>\n",
       "      <th>avg_rating_of_driver</th>\n",
       "      <th>avg_surge</th>\n",
       "      <th>city</th>\n",
       "      <th>last_trip_date</th>\n",
       "      <th>phone</th>\n",
       "      <th>signup_date</th>\n",
       "      <th>surge_pct</th>\n",
       "      <th>trips_in_first_30_days</th>\n",
       "      <th>luxury_car_user</th>\n",
       "      <th>weekday_pct</th>\n",
       "    </tr>\n",
       "  </thead>\n",
       "  <tbody>\n",
       "    <tr>\n",
       "      <th>0</th>\n",
       "      <td>6.94</td>\n",
       "      <td>5.0</td>\n",
       "      <td>5.0</td>\n",
       "      <td>1.00</td>\n",
       "      <td>Astapor</td>\n",
       "      <td>2014-05-03</td>\n",
       "      <td>Android</td>\n",
       "      <td>2014-01-12</td>\n",
       "      <td>0.0</td>\n",
       "      <td>0</td>\n",
       "      <td>False</td>\n",
       "      <td>100.0</td>\n",
       "    </tr>\n",
       "    <tr>\n",
       "      <th>1</th>\n",
       "      <td>8.06</td>\n",
       "      <td>5.0</td>\n",
       "      <td>5.0</td>\n",
       "      <td>1.00</td>\n",
       "      <td>Astapor</td>\n",
       "      <td>2014-01-26</td>\n",
       "      <td>Android</td>\n",
       "      <td>2014-01-25</td>\n",
       "      <td>0.0</td>\n",
       "      <td>2</td>\n",
       "      <td>True</td>\n",
       "      <td>0.0</td>\n",
       "    </tr>\n",
       "    <tr>\n",
       "      <th>2</th>\n",
       "      <td>21.50</td>\n",
       "      <td>4.0</td>\n",
       "      <td>NaN</td>\n",
       "      <td>1.00</td>\n",
       "      <td>Winterfell</td>\n",
       "      <td>2014-05-21</td>\n",
       "      <td>iPhone</td>\n",
       "      <td>2014-01-02</td>\n",
       "      <td>0.0</td>\n",
       "      <td>1</td>\n",
       "      <td>True</td>\n",
       "      <td>100.0</td>\n",
       "    </tr>\n",
       "    <tr>\n",
       "      <th>3</th>\n",
       "      <td>9.46</td>\n",
       "      <td>5.0</td>\n",
       "      <td>NaN</td>\n",
       "      <td>2.75</td>\n",
       "      <td>Winterfell</td>\n",
       "      <td>2014-01-10</td>\n",
       "      <td>Android</td>\n",
       "      <td>2014-01-09</td>\n",
       "      <td>100.0</td>\n",
       "      <td>1</td>\n",
       "      <td>False</td>\n",
       "      <td>100.0</td>\n",
       "    </tr>\n",
       "    <tr>\n",
       "      <th>4</th>\n",
       "      <td>13.77</td>\n",
       "      <td>5.0</td>\n",
       "      <td>NaN</td>\n",
       "      <td>1.00</td>\n",
       "      <td>Winterfell</td>\n",
       "      <td>2014-05-13</td>\n",
       "      <td>iPhone</td>\n",
       "      <td>2014-01-31</td>\n",
       "      <td>0.0</td>\n",
       "      <td>0</td>\n",
       "      <td>False</td>\n",
       "      <td>100.0</td>\n",
       "    </tr>\n",
       "  </tbody>\n",
       "</table>\n",
       "</div>"
      ],
      "text/plain": [
       "   avg_dist  avg_rating_by_driver  avg_rating_of_driver  avg_surge  \\\n",
       "0      6.94                   5.0                   5.0       1.00   \n",
       "1      8.06                   5.0                   5.0       1.00   \n",
       "2     21.50                   4.0                   NaN       1.00   \n",
       "3      9.46                   5.0                   NaN       2.75   \n",
       "4     13.77                   5.0                   NaN       1.00   \n",
       "\n",
       "         city last_trip_date    phone signup_date  surge_pct  \\\n",
       "0     Astapor     2014-05-03  Android  2014-01-12        0.0   \n",
       "1     Astapor     2014-01-26  Android  2014-01-25        0.0   \n",
       "2  Winterfell     2014-05-21   iPhone  2014-01-02        0.0   \n",
       "3  Winterfell     2014-01-10  Android  2014-01-09      100.0   \n",
       "4  Winterfell     2014-05-13   iPhone  2014-01-31        0.0   \n",
       "\n",
       "   trips_in_first_30_days  luxury_car_user  weekday_pct  \n",
       "0                       0            False        100.0  \n",
       "1                       2             True          0.0  \n",
       "2                       1             True        100.0  \n",
       "3                       1            False        100.0  \n",
       "4                       0            False        100.0  "
      ]
     },
     "execution_count": 3,
     "metadata": {},
     "output_type": "execute_result"
    }
   ],
   "source": [
    "train.head()"
   ]
  },
  {
   "cell_type": "markdown",
   "metadata": {},
   "source": [
    "Since there is no **target** column, we will need to use the **signup_date and last_trip_date** columns to create the target labels."
   ]
  },
  {
   "cell_type": "code",
   "execution_count": 4,
   "metadata": {},
   "outputs": [
    {
     "name": "stdout",
     "output_type": "stream",
     "text": [
      "<class 'pandas.core.frame.DataFrame'>\n",
      "RangeIndex: 40000 entries, 0 to 39999\n",
      "Data columns (total 12 columns):\n",
      "avg_dist                  40000 non-null float64\n",
      "avg_rating_by_driver      39838 non-null float64\n",
      "avg_rating_of_driver      33472 non-null float64\n",
      "avg_surge                 40000 non-null float64\n",
      "city                      40000 non-null object\n",
      "last_trip_date            40000 non-null datetime64[ns]\n",
      "phone                     39681 non-null object\n",
      "signup_date               40000 non-null datetime64[ns]\n",
      "surge_pct                 40000 non-null float64\n",
      "trips_in_first_30_days    40000 non-null int64\n",
      "luxury_car_user           40000 non-null bool\n",
      "weekday_pct               40000 non-null float64\n",
      "dtypes: bool(1), datetime64[ns](2), float64(6), int64(1), object(2)\n",
      "memory usage: 3.4+ MB\n"
     ]
    }
   ],
   "source": [
    "train.info()"
   ]
  },
  {
   "cell_type": "markdown",
   "metadata": {},
   "source": [
    "We also need to handle some **missing values**."
   ]
  },
  {
   "cell_type": "code",
   "execution_count": 5,
   "metadata": {},
   "outputs": [
    {
     "name": "stdout",
     "output_type": "stream",
     "text": [
      "0.0 160.96\n"
     ]
    },
    {
     "data": {
      "image/png": "[encoded data removed]",
      "text/plain": [
       "<Figure size 432x288 with 1 Axes>"
      ]
     },
     "metadata": {},
     "output_type": "display_data"
    }
   ],
   "source": [
    "# checking the avg_dist column\n",
    "sns.distplot(train.avg_dist);\n",
    "print(min(train.avg_dist), max(train.avg_dist))"
   ]
  },
  {
   "cell_type": "code",
   "execution_count": 6,
   "metadata": {},
   "outputs": [
    {
     "data": {
      "text/html": [
       "<div>\n",
       "<style scoped>\n",
       "    .dataframe tbody tr th:only-of-type {\n",
       "        vertical-align: middle;\n",
       "    }\n",
       "\n",
       "    .dataframe tbody tr th {\n",
       "        vertical-align: top;\n",
       "    }\n",
       "\n",
       "    .dataframe thead th {\n",
       "        text-align: right;\n",
       "    }\n",
       "</style>\n",
       "<table border=\"1\" class=\"dataframe\">\n",
       "  <thead>\n",
       "    <tr style=\"text-align: right;\">\n",
       "      <th></th>\n",
       "      <th>avg_dist</th>\n",
       "      <th>avg_rating_by_driver</th>\n",
       "      <th>avg_rating_of_driver</th>\n",
       "      <th>avg_surge</th>\n",
       "      <th>city</th>\n",
       "      <th>last_trip_date</th>\n",
       "      <th>phone</th>\n",
       "      <th>signup_date</th>\n",
       "      <th>surge_pct</th>\n",
       "      <th>trips_in_first_30_days</th>\n",
       "      <th>luxury_car_user</th>\n",
       "      <th>weekday_pct</th>\n",
       "    </tr>\n",
       "  </thead>\n",
       "  <tbody>\n",
       "    <tr>\n",
       "      <th>403</th>\n",
       "      <td>0.0</td>\n",
       "      <td>5.0</td>\n",
       "      <td>NaN</td>\n",
       "      <td>3.0</td>\n",
       "      <td>Astapor</td>\n",
       "      <td>2014-01-26</td>\n",
       "      <td>iPhone</td>\n",
       "      <td>2014-01-16</td>\n",
       "      <td>100.0</td>\n",
       "      <td>1</td>\n",
       "      <td>False</td>\n",
       "      <td>0.0</td>\n",
       "    </tr>\n",
       "    <tr>\n",
       "      <th>579</th>\n",
       "      <td>0.0</td>\n",
       "      <td>5.0</td>\n",
       "      <td>NaN</td>\n",
       "      <td>1.0</td>\n",
       "      <td>Winterfell</td>\n",
       "      <td>2014-06-05</td>\n",
       "      <td>iPhone</td>\n",
       "      <td>2014-01-20</td>\n",
       "      <td>0.0</td>\n",
       "      <td>0</td>\n",
       "      <td>False</td>\n",
       "      <td>100.0</td>\n",
       "    </tr>\n",
       "    <tr>\n",
       "      <th>826</th>\n",
       "      <td>0.0</td>\n",
       "      <td>5.0</td>\n",
       "      <td>NaN</td>\n",
       "      <td>1.0</td>\n",
       "      <td>Astapor</td>\n",
       "      <td>2014-02-01</td>\n",
       "      <td>Android</td>\n",
       "      <td>2014-01-27</td>\n",
       "      <td>0.0</td>\n",
       "      <td>1</td>\n",
       "      <td>False</td>\n",
       "      <td>100.0</td>\n",
       "    </tr>\n",
       "    <tr>\n",
       "      <th>1108</th>\n",
       "      <td>0.0</td>\n",
       "      <td>3.0</td>\n",
       "      <td>5.0</td>\n",
       "      <td>1.0</td>\n",
       "      <td>Astapor</td>\n",
       "      <td>2014-02-17</td>\n",
       "      <td>iPhone</td>\n",
       "      <td>2014-01-01</td>\n",
       "      <td>0.0</td>\n",
       "      <td>0</td>\n",
       "      <td>False</td>\n",
       "      <td>0.0</td>\n",
       "    </tr>\n",
       "    <tr>\n",
       "      <th>1667</th>\n",
       "      <td>0.0</td>\n",
       "      <td>5.0</td>\n",
       "      <td>5.0</td>\n",
       "      <td>1.0</td>\n",
       "      <td>Winterfell</td>\n",
       "      <td>2014-01-11</td>\n",
       "      <td>Android</td>\n",
       "      <td>2014-01-10</td>\n",
       "      <td>0.0</td>\n",
       "      <td>1</td>\n",
       "      <td>False</td>\n",
       "      <td>100.0</td>\n",
       "    </tr>\n",
       "  </tbody>\n",
       "</table>\n",
       "</div>"
      ],
      "text/plain": [
       "      avg_dist  avg_rating_by_driver  avg_rating_of_driver  avg_surge  \\\n",
       "403        0.0                   5.0                   NaN        3.0   \n",
       "579        0.0                   5.0                   NaN        1.0   \n",
       "826        0.0                   5.0                   NaN        1.0   \n",
       "1108       0.0                   3.0                   5.0        1.0   \n",
       "1667       0.0                   5.0                   5.0        1.0   \n",
       "\n",
       "            city last_trip_date    phone signup_date  surge_pct  \\\n",
       "403      Astapor     2014-01-26   iPhone  2014-01-16      100.0   \n",
       "579   Winterfell     2014-06-05   iPhone  2014-01-20        0.0   \n",
       "826      Astapor     2014-02-01  Android  2014-01-27        0.0   \n",
       "1108     Astapor     2014-02-17   iPhone  2014-01-01        0.0   \n",
       "1667  Winterfell     2014-01-11  Android  2014-01-10        0.0   \n",
       "\n",
       "      trips_in_first_30_days  luxury_car_user  weekday_pct  \n",
       "403                        1            False          0.0  \n",
       "579                        0            False        100.0  \n",
       "826                        1            False        100.0  \n",
       "1108                       0            False          0.0  \n",
       "1667                       1            False        100.0  "
      ]
     },
     "execution_count": 6,
     "metadata": {},
     "output_type": "execute_result"
    }
   ],
   "source": [
    "train[train.avg_dist == 0].head()"
   ]
  },
  {
   "cell_type": "markdown",
   "metadata": {},
   "source": [
    "Having 0 average distance mile does not make sense, as well as having greater than 120 average distance mile. Therefore, we will filter out these outliers."
   ]
  },
  {
   "cell_type": "code",
   "execution_count": 7,
   "metadata": {},
   "outputs": [
    {
     "name": "stdout",
     "output_type": "stream",
     "text": [
      "Types of cities: ['Astapor' 'Winterfell' \"King's Landing\"]\n",
      "\n",
      "\n",
      "Types of phones: ['Android' 'iPhone' nan]\n"
     ]
    }
   ],
   "source": [
    "# looking into catergorical columns\n",
    "print('Types of cities:', train.city.unique())\n",
    "print()\n",
    "print()\n",
    "print('Types of phones:', train.phone.unique())"
   ]
  },
  {
   "cell_type": "markdown",
   "metadata": {},
   "source": [
    "***"
   ]
  },
  {
   "cell_type": "markdown",
   "metadata": {},
   "source": [
    "## Feature engineering"
   ]
  },
  {
   "cell_type": "markdown",
   "metadata": {},
   "source": [
    "### Create our target label"
   ]
  },
  {
   "cell_type": "code",
   "execution_count": 8,
   "metadata": {},
   "outputs": [],
   "source": [
    "def add_target(df):\n",
    "    '''\n",
    "    Returns a data frame with a column added called within_last 30 days\n",
    "    where 1 means the last ride was greater than 30 days away\n",
    "    and 0 means the last ride was less than 30 days\n",
    "    \n",
    "    (ie.\n",
    "    1 => CHURN\n",
    "    0 => NO CHURN)\n",
    "    \n",
    "    '''\n",
    "    df_copy = df.copy()\n",
    "    \n",
    "    latest_date = max(df_copy['last_trip_date'])\n",
    "    \n",
    "    time_diff = (latest_date - df_copy['last_trip_date'])\n",
    "    churn = (time_diff > timedelta(days = 30)) * 1\n",
    "    df_copy['churn'] = churn\n",
    "    \n",
    "    return df_copy"
   ]
  },
  {
   "cell_type": "markdown",
   "metadata": {},
   "source": [
    "## Data cleaning"
   ]
  },
  {
   "cell_type": "markdown",
   "metadata": {},
   "source": [
    "### Handling Nan values"
   ]
  },
  {
   "cell_type": "code",
   "execution_count": 9,
   "metadata": {},
   "outputs": [],
   "source": [
    "def clean_avg_rating_of_driver(df):\n",
    "    '''\n",
    "    Cleaning the 'avg_rating_of_driver' column and creating 3 new columns:\n",
    "        1. Column where we replace all np.nan to the median.\n",
    "        2. Column where we create a scaled version of original\n",
    "           while replacing all np.nan to median.\n",
    "    '''\n",
    "\n",
    "    df_copy = df.copy()\n",
    "\n",
    "    # Create cleaned column replacing np.nan to median.\n",
    "    median = df_copy.avg_rating_of_driver.median()\n",
    "    df_copy['avg_rating_of_driver_median'] = df_copy.avg_rating_by_driver.fillna(median)\n",
    "\n",
    "    \n",
    "    # Normalized column based off median\n",
    "    size = df_copy['avg_rating_of_driver_median'].shape[0]\n",
    "    scaler = StandardScaler()\n",
    "    df_copy['avg_rating_of_driver_normalized'] = scaler.fit_transform(df_copy['avg_rating_of_driver_median']\\\n",
    "                                                        .values.reshape(size,1))\n",
    "\n",
    "    return df_copy\n"
   ]
  },
  {
   "cell_type": "code",
   "execution_count": 10,
   "metadata": {},
   "outputs": [],
   "source": [
    "def cleaning_avg_rating_by_driver(df):\n",
    "\n",
    "    df_copy = df.copy()\n",
    "\n",
    "    #create cleaned column replacing np.nan to median.\n",
    "    median = df_copy['avg_rating_by_driver'].median()\n",
    "    df_copy['rating_by_driver_median'] = df_copy.avg_rating_by_driver.fillna(median)\n",
    "\n",
    "    # Normalized column based off median\n",
    "    size = df_copy['rating_by_driver_median'].shape[0]\n",
    "    scaler = StandardScaler()\n",
    "\n",
    "    df_copy['rating_by_driver_median_normalized'] = scaler.fit_transform(df_copy['rating_by_driver_median']\\\n",
    "                                                                         .values.reshape(size,1))\n",
    "\n",
    "    return df_copy\n"
   ]
  },
  {
   "cell_type": "markdown",
   "metadata": {},
   "source": [
    "### Outliers"
   ]
  },
  {
   "cell_type": "code",
   "execution_count": 11,
   "metadata": {},
   "outputs": [],
   "source": [
    "def avg_dist_clean(df):\n",
    "    \n",
    "    df_copy = df.copy()\n",
    "    # outliers on the left side\n",
    "    df_copy.drop(df_copy[df_copy.avg_dist < 0.05].index, inplace = True)\n",
    "    # outliers on the right side\n",
    "    df_copy.drop(df_copy[df_copy.avg_dist > 120].index, inplace = True)\n",
    "    \n",
    "    return df_copy"
   ]
  },
  {
   "cell_type": "markdown",
   "metadata": {},
   "source": [
    "## Categorical variables"
   ]
  },
  {
   "cell_type": "code",
   "execution_count": 12,
   "metadata": {},
   "outputs": [],
   "source": [
    "def dummify_city(df):\n",
    "\n",
    "    df_copy = df.copy()\n",
    "    new_df = pd.get_dummies(df_copy, columns=['city'], drop_first=True)\n",
    "\n",
    "    return new_df"
   ]
  },
  {
   "cell_type": "code",
   "execution_count": 13,
   "metadata": {},
   "outputs": [],
   "source": [
    "def dummify_phone(df):\n",
    "    \n",
    "    df_copy = df.copy()\n",
    "    new_df = pd.get_dummies(df_copy, columns=['phone'])\n",
    "    \n",
    "    return new_df"
   ]
  },
  {
   "cell_type": "markdown",
   "metadata": {},
   "source": [
    "***"
   ]
  },
  {
   "cell_type": "markdown",
   "metadata": {},
   "source": [
    "# Apply functions"
   ]
  },
  {
   "cell_type": "code",
   "execution_count": 14,
   "metadata": {},
   "outputs": [],
   "source": [
    "# create target lable\n",
    "train = add_target(train)\n",
    "# clean average rating of driver\n",
    "train = clean_avg_rating_of_driver(train)\n",
    "# clean average rating by driver\n",
    "train = cleaning_avg_rating_by_driver(train)\n",
    "# clean avg_dist outliers\n",
    "train = avg_dist_clean(train)\n",
    "# dummify city variables\n",
    "train = dummify_city(train)\n",
    "# dummify phone variables\n",
    "train = dummify_phone(train)"
   ]
  },
  {
   "cell_type": "code",
   "execution_count": 15,
   "metadata": {},
   "outputs": [
    {
     "data": {
      "text/html": [
       "<div>\n",
       "<style scoped>\n",
       "    .dataframe tbody tr th:only-of-type {\n",
       "        vertical-align: middle;\n",
       "    }\n",
       "\n",
       "    .dataframe tbody tr th {\n",
       "        vertical-align: top;\n",
       "    }\n",
       "\n",
       "    .dataframe thead th {\n",
       "        text-align: right;\n",
       "    }\n",
       "</style>\n",
       "<table border=\"1\" class=\"dataframe\">\n",
       "  <thead>\n",
       "    <tr style=\"text-align: right;\">\n",
       "      <th></th>\n",
       "      <th>avg_dist</th>\n",
       "      <th>avg_rating_by_driver</th>\n",
       "      <th>avg_rating_of_driver</th>\n",
       "      <th>avg_surge</th>\n",
       "      <th>last_trip_date</th>\n",
       "      <th>signup_date</th>\n",
       "      <th>surge_pct</th>\n",
       "      <th>trips_in_first_30_days</th>\n",
       "      <th>luxury_car_user</th>\n",
       "      <th>weekday_pct</th>\n",
       "      <th>churn</th>\n",
       "      <th>avg_rating_of_driver_median</th>\n",
       "      <th>avg_rating_of_driver_normalized</th>\n",
       "      <th>rating_by_driver_median</th>\n",
       "      <th>rating_by_driver_median_normalized</th>\n",
       "      <th>city_King's Landing</th>\n",
       "      <th>city_Winterfell</th>\n",
       "      <th>phone_Android</th>\n",
       "      <th>phone_iPhone</th>\n",
       "    </tr>\n",
       "  </thead>\n",
       "  <tbody>\n",
       "    <tr>\n",
       "      <th>0</th>\n",
       "      <td>6.94</td>\n",
       "      <td>5.0</td>\n",
       "      <td>5.0</td>\n",
       "      <td>1.00</td>\n",
       "      <td>2014-05-03</td>\n",
       "      <td>2014-01-12</td>\n",
       "      <td>0.0</td>\n",
       "      <td>0</td>\n",
       "      <td>False</td>\n",
       "      <td>100.0</td>\n",
       "      <td>1</td>\n",
       "      <td>5.0</td>\n",
       "      <td>0.496532</td>\n",
       "      <td>5.0</td>\n",
       "      <td>0.495454</td>\n",
       "      <td>0</td>\n",
       "      <td>0</td>\n",
       "      <td>1</td>\n",
       "      <td>0</td>\n",
       "    </tr>\n",
       "    <tr>\n",
       "      <th>1</th>\n",
       "      <td>8.06</td>\n",
       "      <td>5.0</td>\n",
       "      <td>5.0</td>\n",
       "      <td>1.00</td>\n",
       "      <td>2014-01-26</td>\n",
       "      <td>2014-01-25</td>\n",
       "      <td>0.0</td>\n",
       "      <td>2</td>\n",
       "      <td>True</td>\n",
       "      <td>0.0</td>\n",
       "      <td>1</td>\n",
       "      <td>5.0</td>\n",
       "      <td>0.496532</td>\n",
       "      <td>5.0</td>\n",
       "      <td>0.495454</td>\n",
       "      <td>0</td>\n",
       "      <td>0</td>\n",
       "      <td>1</td>\n",
       "      <td>0</td>\n",
       "    </tr>\n",
       "    <tr>\n",
       "      <th>2</th>\n",
       "      <td>21.50</td>\n",
       "      <td>4.0</td>\n",
       "      <td>NaN</td>\n",
       "      <td>1.00</td>\n",
       "      <td>2014-05-21</td>\n",
       "      <td>2014-01-02</td>\n",
       "      <td>0.0</td>\n",
       "      <td>1</td>\n",
       "      <td>True</td>\n",
       "      <td>100.0</td>\n",
       "      <td>1</td>\n",
       "      <td>4.0</td>\n",
       "      <td>-1.739394</td>\n",
       "      <td>4.0</td>\n",
       "      <td>-1.739694</td>\n",
       "      <td>0</td>\n",
       "      <td>1</td>\n",
       "      <td>0</td>\n",
       "      <td>1</td>\n",
       "    </tr>\n",
       "    <tr>\n",
       "      <th>3</th>\n",
       "      <td>9.46</td>\n",
       "      <td>5.0</td>\n",
       "      <td>NaN</td>\n",
       "      <td>2.75</td>\n",
       "      <td>2014-01-10</td>\n",
       "      <td>2014-01-09</td>\n",
       "      <td>100.0</td>\n",
       "      <td>1</td>\n",
       "      <td>False</td>\n",
       "      <td>100.0</td>\n",
       "      <td>1</td>\n",
       "      <td>5.0</td>\n",
       "      <td>0.496532</td>\n",
       "      <td>5.0</td>\n",
       "      <td>0.495454</td>\n",
       "      <td>0</td>\n",
       "      <td>1</td>\n",
       "      <td>1</td>\n",
       "      <td>0</td>\n",
       "    </tr>\n",
       "    <tr>\n",
       "      <th>4</th>\n",
       "      <td>13.77</td>\n",
       "      <td>5.0</td>\n",
       "      <td>NaN</td>\n",
       "      <td>1.00</td>\n",
       "      <td>2014-05-13</td>\n",
       "      <td>2014-01-31</td>\n",
       "      <td>0.0</td>\n",
       "      <td>0</td>\n",
       "      <td>False</td>\n",
       "      <td>100.0</td>\n",
       "      <td>1</td>\n",
       "      <td>5.0</td>\n",
       "      <td>0.496532</td>\n",
       "      <td>5.0</td>\n",
       "      <td>0.495454</td>\n",
       "      <td>0</td>\n",
       "      <td>1</td>\n",
       "      <td>0</td>\n",
       "      <td>1</td>\n",
       "    </tr>\n",
       "  </tbody>\n",
       "</table>\n",
       "</div>"
      ],
      "text/plain": [
       "   avg_dist  avg_rating_by_driver  avg_rating_of_driver  avg_surge  \\\n",
       "0      6.94                   5.0                   5.0       1.00   \n",
       "1      8.06                   5.0                   5.0       1.00   \n",
       "2     21.50                   4.0                   NaN       1.00   \n",
       "3      9.46                   5.0                   NaN       2.75   \n",
       "4     13.77                   5.0                   NaN       1.00   \n",
       "\n",
       "  last_trip_date signup_date  surge_pct  trips_in_first_30_days  \\\n",
       "0     2014-05-03  2014-01-12        0.0                       0   \n",
       "1     2014-01-26  2014-01-25        0.0                       2   \n",
       "2     2014-05-21  2014-01-02        0.0                       1   \n",
       "3     2014-01-10  2014-01-09      100.0                       1   \n",
       "4     2014-05-13  2014-01-31        0.0                       0   \n",
       "\n",
       "   luxury_car_user  weekday_pct  churn  avg_rating_of_driver_median  \\\n",
       "0            False        100.0      1                          5.0   \n",
       "1             True          0.0      1                          5.0   \n",
       "2             True        100.0      1                          4.0   \n",
       "3            False        100.0      1                          5.0   \n",
       "4            False        100.0      1                          5.0   \n",
       "\n",
       "   avg_rating_of_driver_normalized  rating_by_driver_median  \\\n",
       "0                         0.496532                      5.0   \n",
       "1                         0.496532                      5.0   \n",
       "2                        -1.739394                      4.0   \n",
       "3                         0.496532                      5.0   \n",
       "4                         0.496532                      5.0   \n",
       "\n",
       "   rating_by_driver_median_normalized  city_King's Landing  city_Winterfell  \\\n",
       "0                            0.495454                    0                0   \n",
       "1                            0.495454                    0                0   \n",
       "2                           -1.739694                    0                1   \n",
       "3                            0.495454                    0                1   \n",
       "4                            0.495454                    0                1   \n",
       "\n",
       "   phone_Android  phone_iPhone  \n",
       "0              1             0  \n",
       "1              1             0  \n",
       "2              0             1  \n",
       "3              1             0  \n",
       "4              0             1  "
      ]
     },
     "execution_count": 15,
     "metadata": {},
     "output_type": "execute_result"
    }
   ],
   "source": [
    "train.head()"
   ]
  },
  {
   "cell_type": "markdown",
   "metadata": {},
   "source": [
    "The dataset looks nice and clean the way we want it to be!\n",
    "\n",
    "Now, we are ready to move on to building models!"
   ]
  },
  {
   "cell_type": "markdown",
   "metadata": {},
   "source": [
    "***"
   ]
  },
  {
   "cell_type": "markdown",
   "metadata": {},
   "source": [
    "# Baseline "
   ]
  },
  {
   "cell_type": "markdown",
   "metadata": {},
   "source": [
    "##  Predicting majority class"
   ]
  },
  {
   "cell_type": "code",
   "execution_count": 16,
   "metadata": {},
   "outputs": [],
   "source": [
    "target = train.churn"
   ]
  },
  {
   "cell_type": "code",
   "execution_count": 17,
   "metadata": {},
   "outputs": [
    {
     "name": "stdout",
     "output_type": "stream",
     "text": [
      "The percentage of the dataset who churn or non-active in the last 30 days 62.30%\n"
     ]
    }
   ],
   "source": [
    "print(\"The percentage of the dataset who churn or non-active in the last 30 days {:.2f}%\" \\\n",
    "      .format(sum(target)/len(target)*100))"
   ]
  },
  {
   "cell_type": "markdown",
   "metadata": {},
   "source": [
    "### Majority Class\n",
    "\n",
    "If we are only predicting if they used the service in the last 30 days, to be making predictions that are useful, we need to predict better than **62%**"
   ]
  },
  {
   "cell_type": "markdown",
   "metadata": {},
   "source": [
    "***"
   ]
  },
  {
   "cell_type": "markdown",
   "metadata": {},
   "source": [
    "# Random Forest"
   ]
  },
  {
   "cell_type": "code",
   "execution_count": 18,
   "metadata": {},
   "outputs": [
    {
     "data": {
      "text/plain": [
       "Index(['avg_dist', 'avg_rating_by_driver', 'avg_rating_of_driver', 'avg_surge',\n",
       "       'last_trip_date', 'signup_date', 'surge_pct', 'trips_in_first_30_days',\n",
       "       'luxury_car_user', 'weekday_pct', 'churn',\n",
       "       'avg_rating_of_driver_median', 'avg_rating_of_driver_normalized',\n",
       "       'rating_by_driver_median', 'rating_by_driver_median_normalized',\n",
       "       'city_King's Landing', 'city_Winterfell', 'phone_Android',\n",
       "       'phone_iPhone'],\n",
       "      dtype='object')"
      ]
     },
     "execution_count": 18,
     "metadata": {},
     "output_type": "execute_result"
    }
   ],
   "source": [
    "train.columns"
   ]
  },
  {
   "cell_type": "code",
   "execution_count": 19,
   "metadata": {},
   "outputs": [],
   "source": [
    "#Set up the Data\n",
    "selected_coln = ['avg_dist', 'rating_by_driver_median_normalized', \n",
    "                 'avg_rating_of_driver_normalized', 'phone_iPhone',\n",
    "                 'phone_Android',\n",
    "                 'avg_surge','surge_pct','trips_in_first_30_days', \n",
    "                 'luxury_car_user', 'weekday_pct', \n",
    "                 \"city_King's Landing\", \"city_Winterfell\"]\n",
    "\n",
    "df = train[selected_coln]\n",
    "X = df.values\n",
    "y = target\n",
    "X_train, X_test, y_train, y_test= train_test_split(X, y, test_size=0.33, random_state=42)\n"
   ]
  },
  {
   "cell_type": "code",
   "execution_count": 20,
   "metadata": {},
   "outputs": [
    {
     "data": {
      "text/plain": [
       "RandomForestClassifier(bootstrap=True, class_weight=None, criterion='gini',\n",
       "            max_depth=None, max_features='auto', max_leaf_nodes=None,\n",
       "            min_impurity_decrease=0.0, min_impurity_split=None,\n",
       "            min_samples_leaf=1, min_samples_split=2,\n",
       "            min_weight_fraction_leaf=0.0, n_estimators=50, n_jobs=1,\n",
       "            oob_score=False, random_state=None, verbose=0,\n",
       "            warm_start=False)"
      ]
     },
     "execution_count": 20,
     "metadata": {},
     "output_type": "execute_result"
    }
   ],
   "source": [
    "#Train the Model\n",
    "model = RandomForestClassifier(n_estimators=50)\n",
    "model.fit(X_train, y_train)"
   ]
  },
  {
   "cell_type": "code",
   "execution_count": 21,
   "metadata": {},
   "outputs": [
    {
     "data": {
      "image/png": "[encoded data removed]",
      "text/plain": [
       "<Figure size 432x288 with 1 Axes>"
      ]
     },
     "metadata": {},
     "output_type": "display_data"
    },
    {
     "name": "stdout",
     "output_type": "stream",
     "text": [
      "\n",
      "\n",
      "Accuracy =  74.78505668416648 %\n"
     ]
    }
   ],
   "source": [
    "#get the feature scores\n",
    "feat_scores = pd.DataFrame({'Average Gini importance' : model.feature_importances_},\n",
    "                           index=df.columns)\n",
    "feat_scores = feat_scores.sort_values(by='Average Gini importance')\n",
    "\n",
    "#Plot\n",
    "feat_scores.plot(kind='barh');\n",
    "plt.grid(alpha = .2,color = 'g',ls = '--')\n",
    "plt.title('Feature Importance')\n",
    "plt.show()\n",
    "print(\"\\n\")\n",
    "print('Accuracy = ', np.sum(model.predict(X_test) == y_test)/len(y_test)*100,'%')"
   ]
  },
  {
   "cell_type": "markdown",
   "metadata": {},
   "source": [
    "With the selected columns, the basic random forest classifier can already outperformed the majority class baseline by 21%!\n",
    "\n",
    "Let's train more different tree-based models to see if we can get a better score!"
   ]
  },
  {
   "cell_type": "markdown",
   "metadata": {},
   "source": [
    "***"
   ]
  },
  {
   "cell_type": "markdown",
   "metadata": {},
   "source": [
    "# Train different models"
   ]
  },
  {
   "cell_type": "code",
   "execution_count": 22,
   "metadata": {},
   "outputs": [
    {
     "data": {
      "text/plain": [
       "<matplotlib.axes._subplots.AxesSubplot at 0x10f89b160>"
      ]
     },
     "execution_count": 22,
     "metadata": {},
     "output_type": "execute_result"
    },
    {
     "data": {
      "image/png": "[encoded data removed]",
      "text/plain": [
       "<Figure size 720x720 with 1 Axes>"
      ]
     },
     "metadata": {},
     "output_type": "display_data"
    }
   ],
   "source": [
    "_,ax = plt.subplots(1,1,figsize = (10,10))\n",
    "\n",
    "models = [RandomForestClassifier(n_estimators=50), \\\n",
    "          LogisticRegression(), \\\n",
    "          GradientBoostingClassifier(), \\\n",
    "          AdaBoostClassifier(GradientBoostingClassifier(), learning_rate=1)]  \n",
    "\n",
    "plot_roc_curve.plot_roc(X,y,models,ax);"
   ]
  },
  {
   "cell_type": "code",
   "execution_count": 23,
   "metadata": {},
   "outputs": [],
   "source": [
    "# sample cost matric\n",
    "cost_matrix = np.array([[200, -100], [ 0,   0]]).T"
   ]
  },
  {
   "cell_type": "code",
   "execution_count": 24,
   "metadata": {},
   "outputs": [
    {
     "name": "stdout",
     "output_type": "stream",
     "text": [
      "The percentage of correct classification for \n",
      "model: RandomForestClassifier is:  74.587 %\n",
      "--------------------------------------------------\n",
      "The percentage of correct classification for \n",
      "model: LogisticRegression is:  71.924 %\n",
      "--------------------------------------------------\n",
      "The percentage of correct classification for \n",
      "model: GradientBoostingClassifier is:  78.536 %\n",
      "--------------------------------------------------\n",
      "The percentage of correct classification for \n",
      "model: AdaBoostClassifier is:  78.186 %\n",
      "--------------------------------------------------\n"
     ]
    }
   ],
   "source": [
    "for model in models:\n",
    "    \n",
    "    m,profits,p = functions.plot_profit_curve(model, cost_matrix, X_train, X_test,\\\n",
    "                      y_train, y_test,ax)\n",
    "    \n",
    "    print('The percentage of correct classification for \\nmodel:',\n",
    "          model.__class__.__name__,\n",
    "          'is: ',\n",
    "          np.round(np.sum(m == y_test)/len(y_test)*100,3),\n",
    "         '%')\n",
    "    print('-'*50)"
   ]
  },
  {
   "cell_type": "markdown",
   "metadata": {},
   "source": [
    "The Gradient Boosting Classifier have the best performance! Let's use it as our model and find what are the major features that are affecting customer churn rate!"
   ]
  },
  {
   "cell_type": "markdown",
   "metadata": {},
   "source": [
    "## Gradient Boosting Classifier"
   ]
  },
  {
   "cell_type": "code",
   "execution_count": 66,
   "metadata": {},
   "outputs": [
    {
     "data": {
      "text/plain": [
       "GradientBoostingClassifier(criterion='friedman_mse', init=None,\n",
       "              learning_rate=0.1, loss='deviance', max_depth=3,\n",
       "              max_features=None, max_leaf_nodes=None,\n",
       "              min_impurity_decrease=0.0, min_impurity_split=None,\n",
       "              min_samples_leaf=1, min_samples_split=2,\n",
       "              min_weight_fraction_leaf=0.0, n_estimators=100,\n",
       "              presort='auto', random_state=None, subsample=1.0, verbose=0,\n",
       "              warm_start=False)"
      ]
     },
     "execution_count": 66,
     "metadata": {},
     "output_type": "execute_result"
    }
   ],
   "source": [
    "final_model = GradientBoostingClassifier()\n",
    "final_model.fit(X_train, y_train)"
   ]
  },
  {
   "cell_type": "markdown",
   "metadata": {},
   "source": [
    "### Precision-recall"
   ]
  },
  {
   "cell_type": "code",
   "execution_count": 67,
   "metadata": {},
   "outputs": [
    {
     "name": "stdout",
     "output_type": "stream",
     "text": [
      "Average precision-recall score: 0.90\n"
     ]
    }
   ],
   "source": [
    "y_score = final_model.decision_function(X_test)\n",
    "average_precision = average_precision_score(y_test, y_score)\n",
    "\n",
    "print('Average precision-recall score: {0:0.2f}'.format(\n",
    "      average_precision))"
   ]
  },
  {
   "cell_type": "code",
   "execution_count": 68,
   "metadata": {},
   "outputs": [
    {
     "data": {
      "image/png": "[encoded data removed]",
      "text/plain": [
       "<Figure size 432x288 with 1 Axes>"
      ]
     },
     "metadata": {},
     "output_type": "display_data"
    },
    {
     "name": "stdout",
     "output_type": "stream",
     "text": [
      "\n",
      "\n",
      "Accuracy =  78.53610286844707 %\n"
     ]
    }
   ],
   "source": [
    "feat_scores = pd.DataFrame({'Average Gini importance' : final_model.feature_importances_},\n",
    "                           index=df.columns)\n",
    "feat_scores = feat_scores.sort_values(by='Average Gini importance')\n",
    "\n",
    "#Plot\n",
    "feat_scores.plot(kind='barh');\n",
    "plt.grid(alpha = .2,color = 'g',ls = '--')\n",
    "plt.title('Feature Importance')\n",
    "plt.show()\n",
    "print(\"\\n\")\n",
    "print('Accuracy = ', np.sum(final_model.predict(X_test) == y_test)/len(y_test)*100,'%')"
   ]
  },
  {
   "cell_type": "markdown",
   "metadata": {},
   "source": [
    "#### Accuracy score is now 79%! \n",
    "\n",
    "#### That is **27%** better than predicting the majority class. Average precision-recall score is 90%"
   ]
  },
  {
   "cell_type": "markdown",
   "metadata": {},
   "source": [
    "***"
   ]
  },
  {
   "cell_type": "markdown",
   "metadata": {},
   "source": [
    "# Final Analysis "
   ]
  },
  {
   "cell_type": "markdown",
   "metadata": {},
   "source": [
    "#### The top four factors are:\n",
    "\n",
    "1. weekday_pct\n",
    "- surge_pct\n",
    "- first 30 days\n",
    "- avg_dist"
   ]
  },
  {
   "cell_type": "code",
   "execution_count": 56,
   "metadata": {},
   "outputs": [
    {
     "data": {
      "image/png": "[encoded data removed]",
      "text/plain": [
       "<Figure size 1296x432 with 2 Axes>"
      ]
     },
     "metadata": {},
     "output_type": "display_data"
    }
   ],
   "source": [
    "fig, ax = plt.subplots(nrows=1, ncols=2, figsize=(18, 6))\n",
    "\n",
    "sns.distplot(train[train.churn == 0].weekday_pct, bins = 20, kde=False, label = 'no churn', ax = ax[0])\n",
    "sns.distplot(train[train.churn == 1].weekday_pct, bins = 20, kde=False, label = 'churn', ax = ax[0])\n",
    "ax[0].set_title('Churn vs No churn - weekday_pct', fontsize=16)\n",
    "\n",
    "\n",
    "sns.distplot(train[train.churn == 0].surge_pct, bins = 30, kde=False, label = 'no churn', ax = ax[1])\n",
    "sns.distplot(train[train.churn == 1].surge_pct, bins = 30, kde=False, label = 'churn', ax = ax[1])\n",
    "ax[1].set_title('Churn vs No churn - surge_pct', fontsize=16)\n",
    "\n",
    "\n",
    "ax[0].legend()\n",
    "ax[1].legend()\n",
    "plt.tight_layout()\n",
    "plt.show()"
   ]
  },
  {
   "cell_type": "markdown",
   "metadata": {},
   "source": [
    "Huge rate of churn at both ends of the graphs, when percentage is 0 or 100.\n",
    "\n",
    "- 0 -> none of the trip occured on the weekdays. This group of users are not using the product as often, because they only use it on the weekends.\n",
    "\n",
    "- 100 -> all trips occur on the weekdays. This group of users are most likely just had 1 trip and quit using the product.\n"
   ]
  },
  {
   "cell_type": "markdown",
   "metadata": {},
   "source": [
    "Same thing for surge_rate. Huge rate of churn at both ends of the graphs, when percentage is 0 or 100.\n",
    "\n",
    "- 0 -> have not taken trips with surge rate so far\n",
    "\n",
    "- 100 -> the expensive surge rate might turned customers away"
   ]
  },
  {
   "cell_type": "code",
   "execution_count": 62,
   "metadata": {},
   "outputs": [
    {
     "data": {
      "image/png": "[encoded data removed]",
      "text/plain": [
       "<Figure size 1296x432 with 2 Axes>"
      ]
     },
     "metadata": {},
     "output_type": "display_data"
    }
   ],
   "source": [
    "fig, ax = plt.subplots(nrows=1, ncols=2, figsize=(18, 6))\n",
    "\n",
    "sns.distplot(train[train.churn == 0].trips_in_first_30_days, bins = 20, kde=False, label = 'no churn', ax = ax[0])\n",
    "sns.distplot(train[train.churn == 1].trips_in_first_30_days, bins = 20, kde=False, label = 'churn', ax = ax[0])\n",
    "ax[0].set_title('Churn vs No churn - trips_in_first_30_days', fontsize=16)\n",
    "\n",
    "\n",
    "sns.distplot(train[(train.trips_in_first_30_days <= 10) & (train.churn == 0)].trips_in_first_30_days, bins = 60, kde=False, label = 'no churn', ax = ax[1])\n",
    "sns.distplot(train[(train.trips_in_first_30_days <= 10) & (train.churn == 1)].trips_in_first_30_days, bins = 60, kde=False, label = 'churn', ax = ax[1])\n",
    "ax[1].set_title('Churn vs No churn - trips_in_first_30_days2', fontsize=16)\n",
    "\n",
    "\n",
    "ax[0].legend()\n",
    "ax[1].legend()\n",
    "plt.tight_layout()\n",
    "plt.show()"
   ]
  },
  {
   "cell_type": "markdown",
   "metadata": {},
   "source": [
    "- 0 or 1 trip in their first 30 days -> churn\n",
    "\n",
    "- more than 2 trips in first 30 days -> no churn "
   ]
  },
  {
   "cell_type": "code",
   "execution_count": 60,
   "metadata": {},
   "outputs": [
    {
     "data": {
      "image/png": "[encoded data removed]",
      "text/plain": [
       "<Figure size 1296x432 with 2 Axes>"
      ]
     },
     "metadata": {},
     "output_type": "display_data"
    }
   ],
   "source": [
    "fig, ax = plt.subplots(nrows=1, ncols=2, figsize=(18, 6))\n",
    "\n",
    "sns.distplot(train[train.churn == 0].avg_dist, bins = 60, kde=False, label = 'no churn', ax = ax[0])\n",
    "sns.distplot(train[train.churn == 1].avg_dist, bins = 60, kde=False, label = 'churn', ax = ax[0])\n",
    "ax[0].set_title('Churn vs No churn - avg_dist1', fontsize=16)\n",
    "\n",
    "# less than 10 miles\n",
    "sns.distplot(train[(train.avg_dist < 10) & (train.churn == 0)].avg_dist, bins = 60, kde=False, label = 'no churn', ax = ax[1])\n",
    "sns.distplot(train[(train.avg_dist < 10 )& (train.churn == 1)].avg_dist, bins = 60, kde=False, label = 'churn', ax = ax[1])\n",
    "ax[1].set_title('Churn vs No churn - avg_dist2', fontsize=16)\n",
    "\n",
    "ax[0].legend()\n",
    "ax[1].legend()\n",
    "plt.tight_layout()\n",
    "plt.show()"
   ]
  },
  {
   "cell_type": "markdown",
   "metadata": {},
   "source": [
    "- There are a lot of users who churned when their trip is less than 4 miles. \n",
    "- more than 4 miles -> active"
   ]
  },
  {
   "cell_type": "markdown",
   "metadata": {},
   "source": [
    "## Conclusion and recommendations"
   ]
  },
  {
   "cell_type": "markdown",
   "metadata": {},
   "source": [
    "Active users tend to:\n",
    "   - have rides on both weekends and weekdays\n",
    "   - have surge percentage around 1-20%\n",
    "   - average distance trip of 3-20 miles\n",
    "   - make more than 2 trips in their first 30 days\n",
    "\n",
    "Non-active users tend to:\n",
    "   - only rides either weekends or weekdays\n",
    "   - have surge percentage either 0 or 100%\n",
    "   - have short trips (average distance less than 3 miles) or very long trips (greater than 10 miles)\n",
    "   - make less than 2 trips in their first 30 days"
   ]
  },
  {
   "cell_type": "markdown",
   "metadata": {},
   "source": [
    "The behavior during their first few trips seeems like a strong indicator of whether they will be active or not. Thus, the marketing team can focus on driving more users to use more than 2 trips in their first month by providing promotions or etc.\n",
    "\n",
    "In order to reduce the percentage of short trips, we implement some restrictions on these promotions. For instance, discounts can only be applied when trips are greater than 5 miles.\n",
    "\n",
    "\n",
    "For active members, the engineering team can work on maintaining the surge percentage around 10-20% in order keep these users. The marketing team can also promote more rides on both weekends and weekdays for both active and non active groups."
   ]
  }
 ],
 "metadata": {
  "kernelspec": {
   "display_name": "Python 3",
   "language": "python",
   "name": "python3"
  },
  "language_info": {
   "codemirror_mode": {
    "name": "ipython",
    "version": 3
   },
   "file_extension": ".py",
   "mimetype": "text/x-python",
   "name": "python",
   "nbconvert_exporter": "python",
   "pygments_lexer": "ipython3",
   "version": "3.6.4"
  }
 },
 "nbformat": 4,
 "nbformat_minor": 2
}
